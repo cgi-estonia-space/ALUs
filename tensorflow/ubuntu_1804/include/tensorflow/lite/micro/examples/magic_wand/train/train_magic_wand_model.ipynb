{
  "nbformat": 4,
  "nbformat_minor": 0,
  "metadata": {
    "colab": {
      "name": "Train a gesture recognition model for microcontroller use",
      "provenance": [],
      "collapsed_sections": [],
      "toc_visible": true
    },
    "kernelspec": {
      "name": "python3",
      "display_name": "Python 3"
    },
    "accelerator": "GPU"
  },
  "cells": [
    {
      "cell_type": "markdown",
      "metadata": {
        "id": "1BtkMGSYQOTQ",
        "colab_type": "text"
      },
      "source": [
        "# Train a gesture recognition model for microcontroller use"
      ]
    },
    {
      "cell_type": "markdown",
      "metadata": {
        "id": "BaFfr7DHRmGF",
        "colab_type": "text"
      },
      "source": [
        "This notebook demonstrates how to train a 20kb gesture recognition model for [TensorFlow Lite for Microcontrollers](https://tensorflow.org/lite/microcontrollers/overview). It will produce the same model used in the [magic_wand](https://github.com/tensorflow/tensorflow/tree/master/tensorflow/lite/micro/examples/magic_wand) example application.\n",
        "\n",
        "The model is designed to be used with [Google Colaboratory](https://colab.research.google.com).\n",
        "\n",
        "<table class=\"tfo-notebook-buttons\" align=\"left\">\n",
        "  <td>\n",
        "    <a target=\"_blank\" href=\"https://colab.research.google.com/github/tensorflow/tensorflow/blob/master/tensorflow/lite/micro/examples/magic_wand/train/train_magic_wand_model.ipynb\"><img src=\"https://www.tensorflow.org/images/colab_logo_32px.png\" />Run in Google Colab</a>\n",
        "  </td>\n",
        "  <td>\n",
        "    <a target=\"_blank\" href=\"https://github.com/tensorflow/tensorflow/blob/master/tensorflow/lite/micro/examples/magic_wand/train/train_magic_wand_model.ipynb\"><img src=\"https://www.tensorflow.org/images/GitHub-Mark-32px.png\" />View source on GitHub</a>\n",
        "  </td>\n",
        "</table>\n"
      ]
    },
    {
      "cell_type": "markdown",
      "metadata": {
        "id": "xXgS6rxyT7Qk",
        "colab_type": "text"
      },
      "source": [
        "Training is much faster using GPU acceleration. Before you proceed, ensure you are using a GPU runtime by going to **Runtime -> Change runtime type** and selecting **GPU**. Training will take around 5 minutes on a GPU runtime."
      ]
    },
    {
      "cell_type": "markdown",
      "metadata": {
        "id": "LG6ErX5FRIaV",
        "colab_type": "text"
      },
      "source": [
        "## Configure dependencies\n",
        "\n",
        "Run the following cell to ensure the correct version of TensorFlow is used."
      ]
    },
    {
      "cell_type": "code",
      "metadata": {
        "id": "h3sE3keZZnMX",
        "colab_type": "code",
        "colab": {}
      },
      "source": [
        "%tensorflow_version 2.x\n"
      ],
      "execution_count": 0,
      "outputs": []
    },
    {
      "cell_type": "markdown",
      "metadata": {
        "id": "STNft9TrfoVh",
        "colab_type": "text"
      },
      "source": [
        "We'll also clone the TensorFlow repository, which contains the training scripts, and copy them into our workspace."
      ]
    },
    {
      "cell_type": "code",
      "metadata": {
        "id": "ygkWw73dRNda",
        "colab_type": "code",
        "colab": {}
      },
      "source": [
        "# Clone the repository from GitHub\n",
        "!git clone --depth 1 -q https://github.com/tensorflow/tensorflow\n",
        "# Copy the training scripts into our workspace\n",
        "!cp -r tensorflow/tensorflow/lite/micro/examples/magic_wand/train train"
      ],
      "execution_count": 0,
      "outputs": []
    },
    {
      "cell_type": "markdown",
      "metadata": {
        "id": "pXI7R4RehFdU",
        "colab_type": "text"
      },
      "source": [
        "## Prepare the data\n",
        "\n",
        "Next, we'll download the data and extract it into the expected location within the training scripts' directory."
      ]
    },
    {
      "cell_type": "code",
      "metadata": {
        "id": "W2Sg2AKzVr2L",
        "colab_type": "code",
        "colab": {}
      },
      "source": [
        "# Download the data we will use to train the model\n",
        "!wget http://download.tensorflow.org/models/tflite/magic_wand/data.tar.gz\n",
        "# Extract the data into the train directory\n",
        "!tar xvzf data.tar.gz -C train 1>/dev/null"
      ],
      "execution_count": 0,
      "outputs": []
    },
    {
      "cell_type": "markdown",
      "metadata": {
        "id": "DNjukI1Sgl2C",
        "colab_type": "text"
      },
      "source": [
        "We'll then run the scripts that split the data into training, validation, and test sets."
      ]
    },
    {
      "cell_type": "code",
      "metadata": {
        "id": "XBqSVpi6Vxss",
        "colab_type": "code",
        "colab": {}
      },
      "source": [
        "# The scripts must be run from within the train directory\n",
        "%cd train\n",
        "# Prepare the data\n",
        "!python data_prepare.py\n",
        "# Split the data by person\n",
        "!python data_split_person.py"
      ],
      "execution_count": 0,
      "outputs": []
    },
    {
      "cell_type": "markdown",
      "metadata": {
        "id": "5-cmVbFvhTvy",
        "colab_type": "text"
      },
      "source": [
        "## Load TensorBoard\n",
        "\n",
        "Now, we set up TensorBoard so that we can graph our accuracy and loss as training proceeds."
      ]
    },
    {
      "cell_type": "code",
      "metadata": {
        "id": "CCx6SN9NWRPw",
        "colab_type": "code",
        "colab": {}
      },
      "source": [
        "# Load TensorBoard\n",
        "%load_ext tensorboard\n",
        "%tensorboard --logdir logs/scalars"
      ],
      "execution_count": 0,
      "outputs": []
    },
    {
      "cell_type": "markdown",
      "metadata": {
        "id": "ERC2Cr4PhaOl",
        "colab_type": "text"
      },
      "source": [
        "## Begin training\n",
        "\n",
        "The following cell will begin the training process. Training will take around 5 minutes on a GPU runtime. You'll see the metrics in TensorBoard after a few epochs."
      ]
    },
    {
      "cell_type": "code",
      "metadata": {
        "id": "DXmQZgbuWQFO",
        "colab_type": "code",
        "colab": {}
      },
      "source": [
        "!python train.py --model CNN --person true"
      ],
      "execution_count": 0,
      "outputs": []
    },
    {
      "cell_type": "markdown",
      "metadata": {
        "id": "4gXbVzcXhvGD",
        "colab_type": "text"
      },
      "source": [
        "## Create a C source file\n",
        "\n",
        "The `train.py` script writes a model, `model.tflite`, to the training scripts' directory.\n",
        "\n",
        "In the following cell, we convert this model into a C++ source file we can use with TensorFlow Lite for Microcontrollers."
      ]
    },
    {
      "cell_type": "code",
      "metadata": {
        "id": "8wgei4OGe3Nz",
        "colab_type": "code",
        "colab": {}
      },
      "source": [
        "# Install xxd if it is not available\n",
        "!apt-get -qq install xxd\n",
        "# Save the file as a C source file\n",
        "!xxd -i model.tflite > /content/model.cc\n",
        "# Print the source file\n",
        "!cat /content/model.cc"
      ],
      "execution_count": 0,
      "outputs": []
    }
  ]
}